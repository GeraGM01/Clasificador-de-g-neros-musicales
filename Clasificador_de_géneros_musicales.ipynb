{
  "nbformat": 4,
  "nbformat_minor": 0,
  "metadata": {
    "colab": {
      "provenance": [],
      "authorship_tag": "ABX9TyPikL3nG8I9ZvUQol0YdTu0",
      "include_colab_link": true
    },
    "kernelspec": {
      "name": "python3",
      "display_name": "Python 3"
    },
    "language_info": {
      "name": "python"
    }
  },
  "cells": [
    {
      "cell_type": "markdown",
      "metadata": {
        "id": "view-in-github",
        "colab_type": "text"
      },
      "source": [
        "<a href=\"https://colab.research.google.com/github/GeraGM01/Clasificador-de-g-neros-musicales/blob/main/Clasificador_de_g%C3%A9neros_musicales.ipynb\" target=\"_parent\"><img src=\"https://colab.research.google.com/assets/colab-badge.svg\" alt=\"Open In Colab\"/></a>"
      ]
    },
    {
      "cell_type": "markdown",
      "source": [
        "**IDENTIFICDOR DE GENEROS MUSICALES A PARTIR DE UN AUDIO**"
      ],
      "metadata": {
        "id": "OPL9khm8xl7r"
      }
    },
    {
      "cell_type": "markdown",
      "source": [
        "1. Objetivo del proyecto\n",
        "\n",
        "\n",
        "*   El objetivo principal del proyecto es realizar un algoritmo que sea capaz de identificar el genero de las\n",
        "canciones que están sonando en el entorno esto utilizando algoritmos de inteligencia artificial.\n",
        "\n",
        "\n"
      ],
      "metadata": {
        "id": "-I05JqDlxxYm"
      }
    },
    {
      "cell_type": "markdown",
      "source": [
        "2. Dataset a usar\n",
        "\n",
        "\n",
        "*   El dataset que se va a utilizar para el entrenamiento de este proyecto va a ser un dataset conocido como \"echo-nest, la cual es una recopilacion de datos musicales pensada para desarolladores y empresas que pertenece a spotify.\n",
        "Este dataset esta en formato json y basicamente una canción es más que su título, artista y número de escuchas\"\n",
        "\n",
        "*   Otro de los set de datos que tenemos es uno de \"Datacamp\" el cual tiene características musicales de cada pista, como la capacidad de baile y la acústica en una escala de -1 a 1.\n",
        "\n",
        "*   El objetivo de analizar estos set de datos es poder clasificar estos datos de acuerdo al genero.\n",
        "\n",
        "\n",
        "\n",
        "\n",
        "\n",
        "\n",
        "\n"
      ],
      "metadata": {
        "id": "YELsRhkiywUX"
      }
    },
    {
      "cell_type": "markdown",
      "source": [
        "3. ***Implementación del codigo***\n",
        "\n",
        "\n",
        "\n",
        "\n",
        "\n"
      ],
      "metadata": {
        "id": "R_vfxlGu1Ud7"
      }
    },
    {
      "cell_type": "code",
      "source": [
        "#Librerias a usar\n",
        "import pandas as pd\n",
        "import matplotlib.pyplot as plt\n",
        "import numpy as np"
      ],
      "metadata": {
        "id": "0DBaVUoR25Ea"
      },
      "execution_count": null,
      "outputs": []
    },
    {
      "cell_type": "code",
      "source": [
        "#Creamos una variable y leemos los datos que estan dentro de nuestro dataset, es decir las pistas con etiquetas de genero\n",
        "tracks = pd.read_csv('fma-rock-vs-hiphop.csv')\n"
      ],
      "metadata": {
        "id": "NPT4KyO43ZPU"
      },
      "execution_count": null,
      "outputs": []
    },
    {
      "cell_type": "code",
      "source": [
        "#Como debug para saber que si esta leyendo nuestros datos del dataset, imprimimos los primeros 5\n",
        "print (tracks.head(5))"
      ],
      "metadata": {
        "colab": {
          "base_uri": "https://localhost:8080/"
        },
        "id": "O1yO3pUt5olM",
        "outputId": "3bf0e561-d634-4689-aabe-4d77710c3691"
      },
      "execution_count": null,
      "outputs": [
        {
          "output_type": "stream",
          "name": "stdout",
          "text": [
            "   track_id  bit_rate  comments        composer         date_created  \\\n",
            "0       135    256000         1             NaN  2008-11-26 01:43:26   \n",
            "1       136    256000         1             NaN  2008-11-26 01:43:35   \n",
            "2       151    192000         0             NaN  2008-11-26 01:44:55   \n",
            "3       152    192000         0             NaN  2008-11-26 01:44:58   \n",
            "4       153    256000         0  Arc and Sender  2008-11-26 01:45:00   \n",
            "\n",
            "         date_recorded  duration  favorites genre_top    genres  ...  \\\n",
            "0  2008-11-26 00:00:00       837          0      Rock  [45, 58]  ...   \n",
            "1  2008-11-26 00:00:00       509          0      Rock  [45, 58]  ...   \n",
            "2                  NaN       192          0      Rock      [25]  ...   \n",
            "3                  NaN       193          0      Rock      [25]  ...   \n",
            "4  2008-11-26 00:00:00       405          5      Rock      [26]  ...   \n",
            "\n",
            "  information interest  language_code  \\\n",
            "0         NaN     2484             en   \n",
            "1         NaN     1948             en   \n",
            "2         NaN      701             en   \n",
            "3         NaN      637             en   \n",
            "4         NaN      354             en   \n",
            "\n",
            "                                             license listens  lyricist number  \\\n",
            "0  Attribution-NonCommercial-ShareAlike 3.0 Inter...    1832       NaN      0   \n",
            "1  Attribution-NonCommercial-ShareAlike 3.0 Inter...    1498       NaN      0   \n",
            "2  Attribution-NonCommercial-ShareAlike 3.0 Inter...     148       NaN      4   \n",
            "3  Attribution-NonCommercial-ShareAlike 3.0 Inter...      98       NaN     11   \n",
            "4  Attribution-NonCommercial-NoDerivatives (aka M...     424       NaN      2   \n",
            "\n",
            "   publisher tags                       title  \n",
            "0        NaN   []                Father's Day  \n",
            "1        NaN   []  Peel Back The Mountain Sky  \n",
            "2        NaN   []                 Untitled 04  \n",
            "3        NaN   []                 Untitled 11  \n",
            "4        NaN   []          Hundred-Year Flood  \n",
            "\n",
            "[5 rows x 21 columns]\n"
          ]
        }
      ]
    },
    {
      "cell_type": "code",
      "source": [
        "#Creamos una variable y leemos las metricas de seguimiento con las funciones\n",
        "echonest_metrics = pd.read_json('echonest-metrics.json',precise_float=True)"
      ],
      "metadata": {
        "id": "9Kb0VKzn5BTU"
      },
      "execution_count": null,
      "outputs": []
    },
    {
      "cell_type": "code",
      "source": [
        "#Campos con la cantidad de registros y tipos de datos\n",
        "print(echonest_metrics.info())"
      ],
      "metadata": {
        "colab": {
          "base_uri": "https://localhost:8080/"
        },
        "id": "DujzYXEs5h3c",
        "outputId": "e5368b94-52a8-44fc-e640-ad5e0fde6eb4"
      },
      "execution_count": null,
      "outputs": [
        {
          "output_type": "stream",
          "name": "stdout",
          "text": [
            "<class 'pandas.core.frame.DataFrame'>\n",
            "Int64Index: 13129 entries, 0 to 13128\n",
            "Data columns (total 9 columns):\n",
            " #   Column            Non-Null Count  Dtype  \n",
            "---  ------            --------------  -----  \n",
            " 0   track_id          13129 non-null  int64  \n",
            " 1   acousticness      13129 non-null  float64\n",
            " 2   danceability      13129 non-null  float64\n",
            " 3   energy            13129 non-null  float64\n",
            " 4   instrumentalness  13129 non-null  float64\n",
            " 5   liveness          13129 non-null  float64\n",
            " 6   speechiness       13129 non-null  float64\n",
            " 7   tempo             13129 non-null  float64\n",
            " 8   valence           13129 non-null  float64\n",
            "dtypes: float64(8), int64(1)\n",
            "memory usage: 1.0 MB\n",
            "None\n"
          ]
        }
      ]
    },
    {
      "cell_type": "code",
      "source": [
        "#Muestra mas informacion de nuestra dataset\n",
        "print(echonest_metrics.describe())"
      ],
      "metadata": {
        "colab": {
          "base_uri": "https://localhost:8080/"
        },
        "id": "wwdNvLin6FUr",
        "outputId": "c8df5aba-0816-4ddb-f93a-821dbd1d8589"
      },
      "execution_count": null,
      "outputs": [
        {
          "output_type": "stream",
          "name": "stdout",
          "text": [
            "            track_id  acousticness  danceability        energy  \\\n",
            "count   13129.000000  1.312900e+04  13129.000000  13129.000000   \n",
            "mean    34031.058268  5.246876e-01      0.487290      0.537516   \n",
            "std     28950.422182  3.837186e-01      0.190148      0.278049   \n",
            "min         2.000000  9.035000e-07      0.051307      0.000020   \n",
            "25%     12986.000000  1.037726e-01      0.344759      0.321300   \n",
            "50%     28097.000000  5.739848e-01      0.485635      0.549113   \n",
            "75%     45021.000000  9.207270e-01      0.629094      0.776254   \n",
            "max    124911.000000  9.957965e-01      0.968645      0.999964   \n",
            "\n",
            "       instrumentalness      liveness   speechiness         tempo  \\\n",
            "count      13129.000000  13129.000000  13129.000000  13129.000000   \n",
            "mean           0.640536      0.187804      0.099174    123.080061   \n",
            "std            0.361430      0.158051      0.137381     35.015137   \n",
            "min            0.000000      0.025297      0.022324     12.753000   \n",
            "25%            0.323466      0.101406      0.036932     95.967000   \n",
            "50%            0.838134      0.119002      0.049019    120.057000   \n",
            "75%            0.918244      0.211041      0.085452    145.318000   \n",
            "max            0.998016      0.980330      0.966177    251.072000   \n",
            "\n",
            "            valence  \n",
            "count  13129.000000  \n",
            "mean       0.439761  \n",
            "std        0.276028  \n",
            "min        0.000010  \n",
            "25%        0.197321  \n",
            "50%        0.417743  \n",
            "75%        0.665575  \n",
            "max        0.999990  \n"
          ]
        }
      ]
    },
    {
      "cell_type": "code",
      "source": [
        "#Hasta este punto ya tenemos como tal toda la informacion de las canciones\n",
        "#pero estan separadas en diferentes archvos, por lo cual las vamos a ligar\n",
        "#de acuerdo a su id\n",
        "\n",
        "#Usamos pandas para hacer la union de la informacion\n",
        "echo_tracks = pd.merge(echonest_metrics, tracks[[\"track_id\", \"genre_top\"]], on='track_id')\n"
      ],
      "metadata": {
        "id": "Ytu7ePJb6bEM"
      },
      "execution_count": null,
      "outputs": []
    },
    {
      "cell_type": "code",
      "source": [
        "# Observamos la informacion resultante de la únion\n",
        "echo_tracks.info()"
      ],
      "metadata": {
        "colab": {
          "base_uri": "https://localhost:8080/"
        },
        "id": "U2uSbl0z7jfl",
        "outputId": "55fd3181-9067-4033-b077-c64607caeb85"
      },
      "execution_count": null,
      "outputs": [
        {
          "output_type": "stream",
          "name": "stdout",
          "text": [
            "<class 'pandas.core.frame.DataFrame'>\n",
            "Int64Index: 4802 entries, 0 to 4801\n",
            "Data columns (total 10 columns):\n",
            " #   Column            Non-Null Count  Dtype  \n",
            "---  ------            --------------  -----  \n",
            " 0   track_id          4802 non-null   int64  \n",
            " 1   acousticness      4802 non-null   float64\n",
            " 2   danceability      4802 non-null   float64\n",
            " 3   energy            4802 non-null   float64\n",
            " 4   instrumentalness  4802 non-null   float64\n",
            " 5   liveness          4802 non-null   float64\n",
            " 6   speechiness       4802 non-null   float64\n",
            " 7   tempo             4802 non-null   float64\n",
            " 8   valence           4802 non-null   float64\n",
            " 9   genre_top         4802 non-null   object \n",
            "dtypes: float64(8), int64(1), object(1)\n",
            "memory usage: 412.7+ KB\n"
          ]
        }
      ]
    },
    {
      "cell_type": "markdown",
      "source": [
        "Para evitar duplicados(Redundancia) de funciones hacemos una matriz de correlacion.\n",
        "\n",
        "\n",
        "\n",
        "*   Matriz de correlacion: Es una tabla que muestra los coeficientes de correlación entre todas las variables en un conjunto de datos.\n",
        "\n",
        "*   El coeficiente de correlación de Pearson puede variar en un rango de -1 a 1, donde:\n",
        "\n",
        "\n",
        "    *   1 indica una correlación positiva perfecta (ambas variables aumentan juntas en una relación lineal).\n",
        "    *   0 indica ausencia de correlación.\n",
        "    *   1 indica una correlación negativa perfecta (una variable disminuye mientras la otra aumenta en una relación lineal).\n",
        "\n",
        "\n",
        "\n",
        "\n",
        "\n",
        "\n"
      ],
      "metadata": {
        "id": "rUmxOLiS9EUc"
      }
    },
    {
      "cell_type": "code",
      "source": [
        "#Se crea una matriz de correlaccion, por el metodo pearson\n",
        "corr_metrics = echo_tracks.corr(method='pearson')\n",
        "#Dar estilo al mapa de calor\n",
        "corr_metrics.style.background_gradient()"
      ],
      "metadata": {
        "colab": {
          "base_uri": "https://localhost:8080/",
          "height": 388
        },
        "id": "bErUckJP-IkK",
        "outputId": "20c58c8c-1ff9-4789-d83b-24446e2f4b55"
      },
      "execution_count": null,
      "outputs": [
        {
          "output_type": "stream",
          "name": "stderr",
          "text": [
            "<ipython-input-10-fc59b6b88ddb>:2: FutureWarning: The default value of numeric_only in DataFrame.corr is deprecated. In a future version, it will default to False. Select only valid columns or specify the value of numeric_only to silence this warning.\n",
            "  corr_metrics = echo_tracks.corr(method='pearson')\n"
          ]
        },
        {
          "output_type": "execute_result",
          "data": {
            "text/plain": [
              "<pandas.io.formats.style.Styler at 0x7c0207557460>"
            ],
            "text/html": [
              "<style type=\"text/css\">\n",
              "#T_8013e_row0_col0, #T_8013e_row1_col1, #T_8013e_row2_col2, #T_8013e_row3_col3, #T_8013e_row4_col4, #T_8013e_row5_col5, #T_8013e_row6_col6, #T_8013e_row7_col7, #T_8013e_row8_col8 {\n",
              "  background-color: #023858;\n",
              "  color: #f1f1f1;\n",
              "}\n",
              "#T_8013e_row0_col1, #T_8013e_row1_col0, #T_8013e_row1_col3, #T_8013e_row2_col5, #T_8013e_row2_col7, #T_8013e_row4_col2, #T_8013e_row4_col6, #T_8013e_row4_col8, #T_8013e_row6_col4 {\n",
              "  background-color: #fff7fb;\n",
              "  color: #000000;\n",
              "}\n",
              "#T_8013e_row0_col2 {\n",
              "  background-color: #d2d2e7;\n",
              "  color: #000000;\n",
              "}\n",
              "#T_8013e_row0_col3 {\n",
              "  background-color: #b5c4df;\n",
              "  color: #000000;\n",
              "}\n",
              "#T_8013e_row0_col4 {\n",
              "  background-color: #f5eef6;\n",
              "  color: #000000;\n",
              "}\n",
              "#T_8013e_row0_col5 {\n",
              "  background-color: #e9e5f1;\n",
              "  color: #000000;\n",
              "}\n",
              "#T_8013e_row0_col6, #T_8013e_row8_col3 {\n",
              "  background-color: #d1d2e6;\n",
              "  color: #000000;\n",
              "}\n",
              "#T_8013e_row0_col7, #T_8013e_row1_col7 {\n",
              "  background-color: #e1dfed;\n",
              "  color: #000000;\n",
              "}\n",
              "#T_8013e_row0_col8, #T_8013e_row3_col6 {\n",
              "  background-color: #dedcec;\n",
              "  color: #000000;\n",
              "}\n",
              "#T_8013e_row1_col2 {\n",
              "  background-color: #e0dded;\n",
              "  color: #000000;\n",
              "}\n",
              "#T_8013e_row1_col4, #T_8013e_row4_col1 {\n",
              "  background-color: #97b7d7;\n",
              "  color: #000000;\n",
              "}\n",
              "#T_8013e_row1_col5, #T_8013e_row2_col4 {\n",
              "  background-color: #f3edf5;\n",
              "  color: #000000;\n",
              "}\n",
              "#T_8013e_row1_col6, #T_8013e_row6_col1 {\n",
              "  background-color: #b8c6e0;\n",
              "  color: #000000;\n",
              "}\n",
              "#T_8013e_row1_col8 {\n",
              "  background-color: #e2dfee;\n",
              "  color: #000000;\n",
              "}\n",
              "#T_8013e_row2_col0, #T_8013e_row5_col0, #T_8013e_row5_col3 {\n",
              "  background-color: #bdc8e1;\n",
              "  color: #000000;\n",
              "}\n",
              "#T_8013e_row2_col1, #T_8013e_row6_col0, #T_8013e_row7_col0, #T_8013e_row7_col1 {\n",
              "  background-color: #d0d1e6;\n",
              "  color: #000000;\n",
              "}\n",
              "#T_8013e_row2_col3 {\n",
              "  background-color: #fbf3f9;\n",
              "  color: #000000;\n",
              "}\n",
              "#T_8013e_row2_col6 {\n",
              "  background-color: #80aed2;\n",
              "  color: #f1f1f1;\n",
              "}\n",
              "#T_8013e_row2_col8 {\n",
              "  background-color: #529bc7;\n",
              "  color: #f1f1f1;\n",
              "}\n",
              "#T_8013e_row3_col0, #T_8013e_row7_col3 {\n",
              "  background-color: #a7bddb;\n",
              "  color: #000000;\n",
              "}\n",
              "#T_8013e_row3_col1 {\n",
              "  background-color: #f5eff6;\n",
              "  color: #000000;\n",
              "}\n",
              "#T_8013e_row3_col2, #T_8013e_row7_col2 {\n",
              "  background-color: #fef6fa;\n",
              "  color: #000000;\n",
              "}\n",
              "#T_8013e_row3_col4 {\n",
              "  background-color: #c4cbe3;\n",
              "  color: #000000;\n",
              "}\n",
              "#T_8013e_row3_col5, #T_8013e_row5_col7 {\n",
              "  background-color: #dcdaeb;\n",
              "  color: #000000;\n",
              "}\n",
              "#T_8013e_row3_col7 {\n",
              "  background-color: #adc1dd;\n",
              "  color: #000000;\n",
              "}\n",
              "#T_8013e_row3_col8, #T_8013e_row4_col7 {\n",
              "  background-color: #d9d8ea;\n",
              "  color: #000000;\n",
              "}\n",
              "#T_8013e_row4_col0 {\n",
              "  background-color: #f4eef6;\n",
              "  color: #000000;\n",
              "}\n",
              "#T_8013e_row4_col3 {\n",
              "  background-color: #d2d3e7;\n",
              "  color: #000000;\n",
              "}\n",
              "#T_8013e_row4_col5 {\n",
              "  background-color: #fdf5fa;\n",
              "  color: #000000;\n",
              "}\n",
              "#T_8013e_row5_col1 {\n",
              "  background-color: #ced0e6;\n",
              "  color: #000000;\n",
              "}\n",
              "#T_8013e_row5_col2 {\n",
              "  background-color: #ede8f3;\n",
              "  color: #000000;\n",
              "}\n",
              "#T_8013e_row5_col4, #T_8013e_row6_col7 {\n",
              "  background-color: #dbdaeb;\n",
              "  color: #000000;\n",
              "}\n",
              "#T_8013e_row5_col6 {\n",
              "  background-color: #c0c9e2;\n",
              "  color: #000000;\n",
              "}\n",
              "#T_8013e_row5_col8 {\n",
              "  background-color: #e8e4f0;\n",
              "  color: #000000;\n",
              "}\n",
              "#T_8013e_row6_col2 {\n",
              "  background-color: #93b5d6;\n",
              "  color: #000000;\n",
              "}\n",
              "#T_8013e_row6_col3, #T_8013e_row6_col5 {\n",
              "  background-color: #eae6f1;\n",
              "  color: #000000;\n",
              "}\n",
              "#T_8013e_row6_col8 {\n",
              "  background-color: #bfc9e1;\n",
              "  color: #000000;\n",
              "}\n",
              "#T_8013e_row7_col4 {\n",
              "  background-color: #c5cce3;\n",
              "  color: #000000;\n",
              "}\n",
              "#T_8013e_row7_col5 {\n",
              "  background-color: #f0eaf4;\n",
              "  color: #000000;\n",
              "}\n",
              "#T_8013e_row7_col6 {\n",
              "  background-color: #c8cde4;\n",
              "  color: #000000;\n",
              "}\n",
              "#T_8013e_row7_col8 {\n",
              "  background-color: #d6d6e9;\n",
              "  color: #000000;\n",
              "}\n",
              "#T_8013e_row8_col0 {\n",
              "  background-color: #c6cce3;\n",
              "  color: #000000;\n",
              "}\n",
              "#T_8013e_row8_col1 {\n",
              "  background-color: #cdd0e5;\n",
              "  color: #000000;\n",
              "}\n",
              "#T_8013e_row8_col2 {\n",
              "  background-color: #4c99c5;\n",
              "  color: #f1f1f1;\n",
              "}\n",
              "#T_8013e_row8_col4 {\n",
              "  background-color: #efe9f3;\n",
              "  color: #000000;\n",
              "}\n",
              "#T_8013e_row8_col5 {\n",
              "  background-color: #f7f0f7;\n",
              "  color: #000000;\n",
              "}\n",
              "#T_8013e_row8_col6 {\n",
              "  background-color: #a5bddb;\n",
              "  color: #000000;\n",
              "}\n",
              "#T_8013e_row8_col7 {\n",
              "  background-color: #d3d4e7;\n",
              "  color: #000000;\n",
              "}\n",
              "</style>\n",
              "<table id=\"T_8013e\" class=\"dataframe\">\n",
              "  <thead>\n",
              "    <tr>\n",
              "      <th class=\"blank level0\" >&nbsp;</th>\n",
              "      <th id=\"T_8013e_level0_col0\" class=\"col_heading level0 col0\" >track_id</th>\n",
              "      <th id=\"T_8013e_level0_col1\" class=\"col_heading level0 col1\" >acousticness</th>\n",
              "      <th id=\"T_8013e_level0_col2\" class=\"col_heading level0 col2\" >danceability</th>\n",
              "      <th id=\"T_8013e_level0_col3\" class=\"col_heading level0 col3\" >energy</th>\n",
              "      <th id=\"T_8013e_level0_col4\" class=\"col_heading level0 col4\" >instrumentalness</th>\n",
              "      <th id=\"T_8013e_level0_col5\" class=\"col_heading level0 col5\" >liveness</th>\n",
              "      <th id=\"T_8013e_level0_col6\" class=\"col_heading level0 col6\" >speechiness</th>\n",
              "      <th id=\"T_8013e_level0_col7\" class=\"col_heading level0 col7\" >tempo</th>\n",
              "      <th id=\"T_8013e_level0_col8\" class=\"col_heading level0 col8\" >valence</th>\n",
              "    </tr>\n",
              "  </thead>\n",
              "  <tbody>\n",
              "    <tr>\n",
              "      <th id=\"T_8013e_level0_row0\" class=\"row_heading level0 row0\" >track_id</th>\n",
              "      <td id=\"T_8013e_row0_col0\" class=\"data row0 col0\" >1.000000</td>\n",
              "      <td id=\"T_8013e_row0_col1\" class=\"data row0 col1\" >-0.372282</td>\n",
              "      <td id=\"T_8013e_row0_col2\" class=\"data row0 col2\" >0.049454</td>\n",
              "      <td id=\"T_8013e_row0_col3\" class=\"data row0 col3\" >0.140703</td>\n",
              "      <td id=\"T_8013e_row0_col4\" class=\"data row0 col4\" >-0.275623</td>\n",
              "      <td id=\"T_8013e_row0_col5\" class=\"data row0 col5\" >0.048231</td>\n",
              "      <td id=\"T_8013e_row0_col6\" class=\"data row0 col6\" >-0.026995</td>\n",
              "      <td id=\"T_8013e_row0_col7\" class=\"data row0 col7\" >-0.025392</td>\n",
              "      <td id=\"T_8013e_row0_col8\" class=\"data row0 col8\" >0.010070</td>\n",
              "    </tr>\n",
              "    <tr>\n",
              "      <th id=\"T_8013e_level0_row1\" class=\"row_heading level0 row1\" >acousticness</th>\n",
              "      <td id=\"T_8013e_row1_col0\" class=\"data row1 col0\" >-0.372282</td>\n",
              "      <td id=\"T_8013e_row1_col1\" class=\"data row1 col1\" >1.000000</td>\n",
              "      <td id=\"T_8013e_row1_col2\" class=\"data row1 col2\" >-0.028954</td>\n",
              "      <td id=\"T_8013e_row1_col3\" class=\"data row1 col3\" >-0.281619</td>\n",
              "      <td id=\"T_8013e_row1_col4\" class=\"data row1 col4\" >0.194780</td>\n",
              "      <td id=\"T_8013e_row1_col5\" class=\"data row1 col5\" >-0.019991</td>\n",
              "      <td id=\"T_8013e_row1_col6\" class=\"data row1 col6\" >0.072204</td>\n",
              "      <td id=\"T_8013e_row1_col7\" class=\"data row1 col7\" >-0.026310</td>\n",
              "      <td id=\"T_8013e_row1_col8\" class=\"data row1 col8\" >-0.013841</td>\n",
              "    </tr>\n",
              "    <tr>\n",
              "      <th id=\"T_8013e_level0_row2\" class=\"row_heading level0 row2\" >danceability</th>\n",
              "      <td id=\"T_8013e_row2_col0\" class=\"data row2 col0\" >0.049454</td>\n",
              "      <td id=\"T_8013e_row2_col1\" class=\"data row2 col1\" >-0.028954</td>\n",
              "      <td id=\"T_8013e_row2_col2\" class=\"data row2 col2\" >1.000000</td>\n",
              "      <td id=\"T_8013e_row2_col3\" class=\"data row2 col3\" >-0.242032</td>\n",
              "      <td id=\"T_8013e_row2_col4\" class=\"data row2 col4\" >-0.255217</td>\n",
              "      <td id=\"T_8013e_row2_col5\" class=\"data row2 col5\" >-0.106584</td>\n",
              "      <td id=\"T_8013e_row2_col6\" class=\"data row2 col6\" >0.276206</td>\n",
              "      <td id=\"T_8013e_row2_col7\" class=\"data row2 col7\" >-0.242089</td>\n",
              "      <td id=\"T_8013e_row2_col8\" class=\"data row2 col8\" >0.473165</td>\n",
              "    </tr>\n",
              "    <tr>\n",
              "      <th id=\"T_8013e_level0_row3\" class=\"row_heading level0 row3\" >energy</th>\n",
              "      <td id=\"T_8013e_row3_col0\" class=\"data row3 col0\" >0.140703</td>\n",
              "      <td id=\"T_8013e_row3_col1\" class=\"data row3 col1\" >-0.281619</td>\n",
              "      <td id=\"T_8013e_row3_col2\" class=\"data row3 col2\" >-0.242032</td>\n",
              "      <td id=\"T_8013e_row3_col3\" class=\"data row3 col3\" >1.000000</td>\n",
              "      <td id=\"T_8013e_row3_col4\" class=\"data row3 col4\" >0.028238</td>\n",
              "      <td id=\"T_8013e_row3_col5\" class=\"data row3 col5\" >0.113331</td>\n",
              "      <td id=\"T_8013e_row3_col6\" class=\"data row3 col6\" >-0.109983</td>\n",
              "      <td id=\"T_8013e_row3_col7\" class=\"data row3 col7\" >0.195227</td>\n",
              "      <td id=\"T_8013e_row3_col8\" class=\"data row3 col8\" >0.038603</td>\n",
              "    </tr>\n",
              "    <tr>\n",
              "      <th id=\"T_8013e_level0_row4\" class=\"row_heading level0 row4\" >instrumentalness</th>\n",
              "      <td id=\"T_8013e_row4_col0\" class=\"data row4 col0\" >-0.275623</td>\n",
              "      <td id=\"T_8013e_row4_col1\" class=\"data row4 col1\" >0.194780</td>\n",
              "      <td id=\"T_8013e_row4_col2\" class=\"data row4 col2\" >-0.255217</td>\n",
              "      <td id=\"T_8013e_row4_col3\" class=\"data row4 col3\" >0.028238</td>\n",
              "      <td id=\"T_8013e_row4_col4\" class=\"data row4 col4\" >1.000000</td>\n",
              "      <td id=\"T_8013e_row4_col5\" class=\"data row4 col5\" >-0.091022</td>\n",
              "      <td id=\"T_8013e_row4_col6\" class=\"data row4 col6\" >-0.366762</td>\n",
              "      <td id=\"T_8013e_row4_col7\" class=\"data row4 col7\" >0.022215</td>\n",
              "      <td id=\"T_8013e_row4_col8\" class=\"data row4 col8\" >-0.219967</td>\n",
              "    </tr>\n",
              "    <tr>\n",
              "      <th id=\"T_8013e_level0_row5\" class=\"row_heading level0 row5\" >liveness</th>\n",
              "      <td id=\"T_8013e_row5_col0\" class=\"data row5 col0\" >0.048231</td>\n",
              "      <td id=\"T_8013e_row5_col1\" class=\"data row5 col1\" >-0.019991</td>\n",
              "      <td id=\"T_8013e_row5_col2\" class=\"data row5 col2\" >-0.106584</td>\n",
              "      <td id=\"T_8013e_row5_col3\" class=\"data row5 col3\" >0.113331</td>\n",
              "      <td id=\"T_8013e_row5_col4\" class=\"data row5 col4\" >-0.091022</td>\n",
              "      <td id=\"T_8013e_row5_col5\" class=\"data row5 col5\" >1.000000</td>\n",
              "      <td id=\"T_8013e_row5_col6\" class=\"data row5 col6\" >0.041173</td>\n",
              "      <td id=\"T_8013e_row5_col7\" class=\"data row5 col7\" >0.002732</td>\n",
              "      <td id=\"T_8013e_row5_col8\" class=\"data row5 col8\" >-0.045093</td>\n",
              "    </tr>\n",
              "    <tr>\n",
              "      <th id=\"T_8013e_level0_row6\" class=\"row_heading level0 row6\" >speechiness</th>\n",
              "      <td id=\"T_8013e_row6_col0\" class=\"data row6 col0\" >-0.026995</td>\n",
              "      <td id=\"T_8013e_row6_col1\" class=\"data row6 col1\" >0.072204</td>\n",
              "      <td id=\"T_8013e_row6_col2\" class=\"data row6 col2\" >0.276206</td>\n",
              "      <td id=\"T_8013e_row6_col3\" class=\"data row6 col3\" >-0.109983</td>\n",
              "      <td id=\"T_8013e_row6_col4\" class=\"data row6 col4\" >-0.366762</td>\n",
              "      <td id=\"T_8013e_row6_col5\" class=\"data row6 col5\" >0.041173</td>\n",
              "      <td id=\"T_8013e_row6_col6\" class=\"data row6 col6\" >1.000000</td>\n",
              "      <td id=\"T_8013e_row6_col7\" class=\"data row6 col7\" >0.008241</td>\n",
              "      <td id=\"T_8013e_row6_col8\" class=\"data row6 col8\" >0.149894</td>\n",
              "    </tr>\n",
              "    <tr>\n",
              "      <th id=\"T_8013e_level0_row7\" class=\"row_heading level0 row7\" >tempo</th>\n",
              "      <td id=\"T_8013e_row7_col0\" class=\"data row7 col0\" >-0.025392</td>\n",
              "      <td id=\"T_8013e_row7_col1\" class=\"data row7 col1\" >-0.026310</td>\n",
              "      <td id=\"T_8013e_row7_col2\" class=\"data row7 col2\" >-0.242089</td>\n",
              "      <td id=\"T_8013e_row7_col3\" class=\"data row7 col3\" >0.195227</td>\n",
              "      <td id=\"T_8013e_row7_col4\" class=\"data row7 col4\" >0.022215</td>\n",
              "      <td id=\"T_8013e_row7_col5\" class=\"data row7 col5\" >0.002732</td>\n",
              "      <td id=\"T_8013e_row7_col6\" class=\"data row7 col6\" >0.008241</td>\n",
              "      <td id=\"T_8013e_row7_col7\" class=\"data row7 col7\" >1.000000</td>\n",
              "      <td id=\"T_8013e_row7_col8\" class=\"data row7 col8\" >0.052221</td>\n",
              "    </tr>\n",
              "    <tr>\n",
              "      <th id=\"T_8013e_level0_row8\" class=\"row_heading level0 row8\" >valence</th>\n",
              "      <td id=\"T_8013e_row8_col0\" class=\"data row8 col0\" >0.010070</td>\n",
              "      <td id=\"T_8013e_row8_col1\" class=\"data row8 col1\" >-0.013841</td>\n",
              "      <td id=\"T_8013e_row8_col2\" class=\"data row8 col2\" >0.473165</td>\n",
              "      <td id=\"T_8013e_row8_col3\" class=\"data row8 col3\" >0.038603</td>\n",
              "      <td id=\"T_8013e_row8_col4\" class=\"data row8 col4\" >-0.219967</td>\n",
              "      <td id=\"T_8013e_row8_col5\" class=\"data row8 col5\" >-0.045093</td>\n",
              "      <td id=\"T_8013e_row8_col6\" class=\"data row8 col6\" >0.149894</td>\n",
              "      <td id=\"T_8013e_row8_col7\" class=\"data row8 col7\" >0.052221</td>\n",
              "      <td id=\"T_8013e_row8_col8\" class=\"data row8 col8\" >1.000000</td>\n",
              "    </tr>\n",
              "  </tbody>\n",
              "</table>\n"
            ]
          },
          "metadata": {},
          "execution_count": 10
        }
      ]
    },
    {
      "cell_type": "code",
      "source": [
        "# Define nuestras características para el conjunto de datos y OJO aqui no vamos a usar todas, ya que hay\n",
        "# algunas que no nos van a interesar, entonces con este drop vamos a eliminar el genero y el track ID\n",
        "features = echo_tracks.drop(['genre_top', 'track_id'], axis=1)\n",
        "\n",
        "# Definimos esta etiqueta\n",
        "labels = echo_tracks['genre_top']\n",
        "\n",
        "# Import the StandardScaler\n",
        "from sklearn.preprocessing import StandardScaler\n",
        "\n",
        "# Escalamos las caracteristicas para que el modelo pueda tomar una misma medicion esto lo hacemos\n",
        "# cuando los datos no estan normalizados\n",
        "scaler = StandardScaler()\n",
        "scaled_train_features = scaler.fit_transform(features)\n"
      ],
      "metadata": {
        "id": "lcPMFLE3_cXQ"
      },
      "execution_count": null,
      "outputs": []
    },
    {
      "cell_type": "markdown",
      "source": [
        "Analizamos los componentes principales de nuestra escala:\n",
        "\n",
        "Ya que hemos procesado los datos de la matriz de correlación, ahora si podemos hacer un PCA y determinar cuanto podemos reducir la dimensionalidad de los datos.\n",
        "\n",
        "El grafico que nos dara, nos va a mostrar de manera descendiente la varianza.\n"
      ],
      "metadata": {
        "id": "cFhngZP18mBv"
      }
    },
    {
      "cell_type": "code",
      "source": [
        "# Con esta linea vamos a mostrar el grafico de la varianza\n",
        "%matplotlib inline\n",
        "\n",
        "# Import our plotting module, and PCA class\n",
        "from sklearn.decomposition import PCA\n",
        "\n",
        "# Obtenemos las relaciones de la variaza del PCA\n",
        "pca = PCA()\n",
        "pca.fit(scaled_train_features)\n",
        "exp_variance = pca.explained_variance_ratio_\n",
        "\n",
        "# Mostramos la varianza con un grafico de barras\n",
        "fig, ax = plt.subplots()\n",
        "ax.bar(range(8), exp_variance)\n",
        "ax.set_xlabel('Componente principal #')"
      ],
      "metadata": {
        "colab": {
          "base_uri": "https://localhost:8080/",
          "height": 467
        },
        "id": "h24Nup1v9QWU",
        "outputId": "c150abb0-4df8-4201-9b01-be58d6c6f372"
      },
      "execution_count": null,
      "outputs": [
        {
          "output_type": "execute_result",
          "data": {
            "text/plain": [
              "Text(0.5, 0, 'Componente principal #')"
            ]
          },
          "metadata": {},
          "execution_count": 12
        },
        {
          "output_type": "display_data",
          "data": {
            "text/plain": [
              "<Figure size 640x480 with 1 Axes>"
            ],
            "image/png": "[encoded data removed]"
          },
          "metadata": {}
        }
      ]
    },
    {
      "cell_type": "markdown",
      "source": [
        "Podemos observar que este grafico no nos da mucha información que nos pueda ser útil para encontrar el numero de dimensiones, es muy limitada esa información por lo cual mejor vamos a crear un grafico de varianza acumulativa"
      ],
      "metadata": {
        "id": "DIWq5XIT_HVX"
      }
    },
    {
      "cell_type": "code",
      "source": [
        "# Calculo de la varianza acumulativa\n",
        "cum_exp_variance = np.cumsum(exp_variance)\n",
        "\n",
        "# Trazo de la varianza acumulativa y se hace un dibujo punteado en 0.90.\n",
        "# Rango de 0 a 8 y de 0 a 10.\n",
        "fig, ax = plt.subplots()\n",
        "ax.plot(range(8), cum_exp_variance)\n",
        "ax.axhline(y=0.9, linestyle='--')\n",
        "n_components = 6\n",
        "\n",
        "# Realizar PCA con el número elegido de componentes y proyectar datos en componentes\n",
        "pca = PCA(n_components, random_state=10)\n",
        "pca.fit(scaled_train_features)\n",
        "pca_projection = pca.transform(scaled_train_features)"
      ],
      "metadata": {
        "colab": {
          "base_uri": "https://localhost:8080/",
          "height": 430
        },
        "id": "0GHt9Adb_G21",
        "outputId": "d991ecd1-03d1-415d-c680-5fbcd875b2db"
      },
      "execution_count": null,
      "outputs": [
        {
          "output_type": "display_data",
          "data": {
            "text/plain": [
              "<Figure size 640x480 with 1 Axes>"
            ],
            "image/png": "[encoded data removed]"
          },
          "metadata": {}
        }
      ]
    },
    {
      "cell_type": "markdown",
      "source": [
        "**Metodo de clasificacion de los datos**\n",
        "\n",
        "***ARBOL DE DECISIONES***\n",
        "\n",
        "Aqui vamos a crear un arbol de decisiones para asi poder hacer la clasificacion del genero musical.\n",
        "Lo que vamos a hacer es dividir nuestro conjunto de datos en datos de entrenamiento y datos de prueba, en donde el conjunto de entrenamiento se usara para entrenar el modelo mientras que el otro conjunto de prueba lo usaremos para evaluar y validar el rendimiento del modelo."
      ],
      "metadata": {
        "id": "koFuZP-a_2dM"
      }
    },
    {
      "cell_type": "code",
      "source": [
        "# Import train_test_split function and Decision tree classifier\n",
        "from sklearn.model_selection import train_test_split\n",
        "from sklearn.tree import DecisionTreeClassifier\n",
        "\n",
        "# Dividimos nuestros para despues ocuparlos en entrenamiento y prueba\n",
        "train_features, test_features, train_labels, test_labels = train_test_split(pca_projection, labels, random_state=10)\n",
        "\n",
        "# Entrenamos el arbol con los datos de entrenamiento\n",
        "tree = DecisionTreeClassifier(random_state=10)\n",
        "tree.fit(train_features, train_labels)\n",
        "\n",
        "#  Predecimos las etiquetas resultantes con los datos de prueba\n",
        "pred_labels_tree = tree.predict(test_features)"
      ],
      "metadata": {
        "id": "nVTR7-sAMr6x"
      },
      "execution_count": null,
      "outputs": []
    },
    {
      "cell_type": "markdown",
      "source": [
        "**Obtenemos nuestro reporte de clasificación ya de nuestro arbol entrenado y lo visualizamos**"
      ],
      "metadata": {
        "id": "tsdGsYlhPRlD"
      }
    },
    {
      "cell_type": "code",
      "source": [
        "# Creamos la clasificacion del reporte de nuestro modelo\n",
        "from sklearn.metrics import classification_report\n",
        "class_rep_tree = classification_report(test_labels, pred_labels_tree)\n",
        "print(\"Decision Tree: \\n\", class_rep_tree)"
      ],
      "metadata": {
        "colab": {
          "base_uri": "https://localhost:8080/"
        },
        "id": "xN4Mg_LwPgwi",
        "outputId": "ea860be9-53d2-400c-91cd-6bbc7ceb34b8"
      },
      "execution_count": null,
      "outputs": [
        {
          "output_type": "stream",
          "name": "stdout",
          "text": [
            "Decision Tree: \n",
            "               precision    recall  f1-score   support\n",
            "\n",
            "     Hip-Hop       0.60      0.60      0.60       235\n",
            "        Rock       0.90      0.90      0.90       966\n",
            "\n",
            "    accuracy                           0.84      1201\n",
            "   macro avg       0.75      0.75      0.75      1201\n",
            "weighted avg       0.84      0.84      0.84      1201\n",
            "\n"
          ]
        }
      ]
    },
    {
      "cell_type": "markdown",
      "source": [
        "**Análisis de los resultados del Árbol de decisión**                  \n",
        "En esta parte ya podemos observar que la precisión para las canciones de Hip Hop esta algo baja mientras que para las canciones de Rock esta algo elevada, en el recall podemos observar que en Hip Hop esta en el 0.60% y esto quiere decir que esa fue la capacidad que tuvo el modelo para encontrar falsos positivos y de igual forma sigue siendo algo baja para el caso del hip hop y en el caso de soporte que es el numero de registros con los que se esta trabajando, vemos que de igual forma esta muy bajo y es por ello que vamos a equilibrar esos datos para que no haya un desbalanceo entre ambos géneros y haya una mejor precisión."
      ],
      "metadata": {
        "id": "FGiI0P1eT_CG"
      }
    },
    {
      "cell_type": "markdown",
      "source": [
        "Observando nuestro reporte podemos ver que las canciones de rock están bastante bien clasificadas, pero las canciones de hip hop no, están desproporcionalmente mal clasificadas como canciones de rock y esto se debe a que tenemos muchos mas puntos de datos para la clasificación de Rock que para la de Hip Hop y esto hace que haya un sesgo en el modelo y la capacidad para clasificar y distinguir las dos clases y esto hace una mayor precisión para la clasificación del genero Rock.\n",
        "Para resolver esto vamos a re dimensionar el set de datos.\n"
      ],
      "metadata": {
        "id": "iyfNNrjLUef1"
      }
    },
    {
      "cell_type": "code",
      "source": [
        "# Hacemos un subconjunto de datos, solo vamos a tomar los datos de echo track con su campo de genero tanto para hip hop y rock\n",
        "hop_only = echo_tracks.loc[echo_tracks['genre_top'] == 'Hip-Hop']\n",
        "rock_only = echo_tracks.loc[echo_tracks['genre_top'] == 'Rock']\n",
        "\n",
        "# muestrea las canciones de rock para que sean el mismo número de las canciones que hay de hip-hop\n",
        "rock_only = rock_only.sample(len(hop_only), random_state=10)\n",
        "\n",
        "# Concatenamos los datos  datos rock_only y hop_only\n",
        "rock_hop_bal = pd.concat([rock_only, hop_only])\n",
        "\n",
        "# Con las caracteristicas de las etiquetas y la proyeccion del PCA vamos a crear el marco de datos para equilibrarlo\n",
        "# y se quite el sesgo\n",
        "features = rock_hop_bal.drop(['genre_top', 'track_id'], axis=1)\n",
        "labels = rock_hop_bal['genre_top']\n",
        "pca_projection = pca.fit_transform(scaler.fit_transform(features))\n",
        "\n",
        "# Redefinimos el conjunto de datos para entrenar y volvemos a usar los datos para que esten balanceado\n",
        "train_features, test_features, train_labels, test_labels = train_test_split(pca_projection, labels, random_state=10)"
      ],
      "metadata": {
        "id": "LcvMkpzzPS3x"
      },
      "execution_count": null,
      "outputs": []
    },
    {
      "cell_type": "markdown",
      "source": [
        "**Análisis del segundo reporte ya con el balanceo de datos**\n",
        "\n",
        "Aqui ya hicimos el equilibrio con los datos nuevos y vamos a ver si en realidad ese equilibrio nuevo mejoro el sesgo que había."
      ],
      "metadata": {
        "id": "KrOW-uYEW9SN"
      }
    },
    {
      "cell_type": "code",
      "source": [
        "# Entrenamiento del nuevo arbol ya con los datos balanceados\n",
        "tree = DecisionTreeClassifier(random_state=10)\n",
        "tree.fit(train_features, train_labels)\n",
        "pred_labels_tree = tree.predict(test_features)\n",
        "\n",
        "# Mostramos el reporte del nuevo arbol\n",
        "print(\"Decision Tree: \\n\", classification_report(test_labels, pred_labels_tree))"
      ],
      "metadata": {
        "colab": {
          "base_uri": "https://localhost:8080/"
        },
        "id": "myTMnVVHX3Jg",
        "outputId": "76021278-ebc5-4bb4-dfc9-df588298b230"
      },
      "execution_count": null,
      "outputs": [
        {
          "output_type": "stream",
          "name": "stdout",
          "text": [
            "Decision Tree: \n",
            "               precision    recall  f1-score   support\n",
            "\n",
            "     Hip-Hop       0.74      0.73      0.74       230\n",
            "        Rock       0.73      0.74      0.73       225\n",
            "\n",
            "    accuracy                           0.74       455\n",
            "   macro avg       0.74      0.74      0.74       455\n",
            "weighted avg       0.74      0.74      0.74       455\n",
            "\n"
          ]
        }
      ]
    }
  ]
}